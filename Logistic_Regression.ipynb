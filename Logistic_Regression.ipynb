{
  "nbformat": 4,
  "nbformat_minor": 0,
  "metadata": {
    "colab": {
      "provenance": [],
      "authorship_tag": "ABX9TyPUWVGnEYQmhUvRRxxdzjGH",
      "include_colab_link": true
    },
    "kernelspec": {
      "name": "python3",
      "display_name": "Python 3"
    },
    "language_info": {
      "name": "python"
    }
  },
  "cells": [
    {
      "cell_type": "markdown",
      "metadata": {
        "id": "view-in-github",
        "colab_type": "text"
      },
      "source": [
        "<a href=\"https://colab.research.google.com/github/VedJ13/Machine_Learning/blob/main/Logistic_Regression.ipynb\" target=\"_parent\"><img src=\"https://colab.research.google.com/assets/colab-badge.svg\" alt=\"Open In Colab\"/></a>"
      ]
    },
    {
      "cell_type": "code",
      "execution_count": 23,
      "metadata": {
        "id": "xk1x8IwYmXdc"
      },
      "outputs": [],
      "source": [
        "import numpy as np\n",
        "import matplotlib.pyplot as plt\n",
        "from sklearn.linear_model import LogisticRegression\n",
        "from sklearn.metrics import accuracy_score, confusion_matrix"
      ]
    },
    {
      "cell_type": "code",
      "source": [
        "X = np.array([[1],[2],[3],[4],[5],[6],[7],[8],[9],[10]])\n",
        "y = np.array([0, 0, 0, 1, 1, 0, 1, 1, 1, 1])\n",
        "\n",
        "plt.scatter(X, y, color = \"red\")\n",
        "plt.xlabel(\"Hours\")\n",
        "plt.ylabel(\"Result\")\n",
        "plt.title(\"Hours vs Result\")\n",
        "plt.show()\n",
        "\n",
        "model = LogisticRegression()\n",
        "model.fit(X, y)\n",
        "\n",
        "X_test = [[3.4], [6.4], [2], [5]]\n",
        "probability = model.predict_proba(X_test)\n",
        "\n",
        "for hour, prob in zip(X_test, probability):\n",
        "    print(f\"Hour: {hour[0]} and Passing Probability: {prob[1]:.2f}\")\n",
        "\n",
        "pred = model.predict(X_test)\n",
        "print(f\"Predicted Result: {pred}\")\n",
        "\n",
        "y_pred = model.predict(X)\n",
        "print(\"Accuracy Score: \", accuracy_score(y, y_pred))\n",
        "print(\"Confusion Matrix: \", confusion_matrix(y, y_pred))"
      ],
      "metadata": {
        "colab": {
          "base_uri": "https://localhost:8080/",
          "height": 617
        },
        "id": "T31bnK02zH5h",
        "outputId": "e7627461-8e67-4fde-f9cd-4a9736ed8b4c"
      },
      "execution_count": 24,
      "outputs": [
        {
          "output_type": "display_data",
          "data": {
            "text/plain": [
              "<Figure size 640x480 with 1 Axes>"
            ],
            "image/png": "[encoded data removed]"
          },
          "metadata": {}
        },
        {
          "output_type": "stream",
          "name": "stdout",
          "text": [
            "Hour: 3.4 and Passing Probability: 0.32\n",
            "Hour: 6.4 and Passing Probability: 0.80\n",
            "Hour: 2 and Passing Probability: 0.15\n",
            "Hour: 5 and Passing Probability: 0.60\n",
            "Predicted Result: [0 1 0 1]\n",
            "Accuracy Score:  0.8\n",
            "Confusion Matrix:  [[3 1]\n",
            " [1 5]]\n"
          ]
        }
      ]
    }
  ]
}